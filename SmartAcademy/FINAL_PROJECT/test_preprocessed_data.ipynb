{
 "cells": [
  {
   "cell_type": "code",
   "execution_count": 1,
   "metadata": {},
   "outputs": [],
   "source": [
    "import numpy as np\n",
    "import pandas as pd\n",
    "import seaborn as sns\n",
    "import matplotlib.pyplot as plt\n",
    "import warnings\n",
    "from sklearn.preprocessing import StandardScaler, MinMaxScaler\n",
    "sns.set()\n",
    "\n",
    "warnings.filterwarnings('ignore')\n",
    "\n",
    "%matplotlib inline\n",
    "color = sns.color_palette()"
   ]
  },
  {
   "cell_type": "markdown",
   "metadata": {},
   "source": [
    "# Upload data"
   ]
  },
  {
   "cell_type": "code",
   "execution_count": 2,
   "metadata": {},
   "outputs": [],
   "source": [
    "x_train = pd.read_csv('data/data_for_model/x_train.csv')\n",
    "y_train = pd.read_csv('data/data_for_model/y_train.csv')\n",
    "\n",
    "x_test = pd.read_csv('data/data_for_model/x_test.csv')\n",
    "y_test = pd.read_csv('data/data_for_model/y_test.csv')"
   ]
  },
  {
   "cell_type": "markdown",
   "metadata": {},
   "source": [
    "# Test datasets on example"
   ]
  },
  {
   "cell_type": "code",
   "execution_count": 13,
   "metadata": {},
   "outputs": [
    {
     "data": {
      "text/plain": [
       "(208505, 200)"
      ]
     },
     "execution_count": 13,
     "metadata": {},
     "output_type": "execute_result"
    }
   ],
   "source": [
    "from sklearn.linear_model import LogisticRegression\n",
    "from sklearn.model_selection import train_test_split\n",
    "from sklearn.model_selection import cross_validate\n",
    "from sklearn.metrics import roc_auc_score, accuracy_score, precision_score, recall_score, f1_score,  roc_curve, balanced_accuracy_score\n",
    "from sklearn.ensemble import RandomForestClassifier, GradientBoostingClassifier\n",
    "from sklearn.neural_network import MLPClassifier\n",
    "from sklearn.ensemble import BaggingClassifier\n",
    "from sklearn.model_selection import GridSearchCV\n",
    "from sklearn.decomposition import TruncatedSVD, PCA\n",
    "\n",
    "# x_train.shape 470\n",
    "svd = PCA(n_components=200)\n",
    "svd.fit(x_train)  \n",
    "x_train_component = svd.transform(x_train)\n",
    "x_test_component = svd.transform(x_test)\n",
    "x_train_component.shape"
   ]
  },
  {
   "cell_type": "code",
   "execution_count": 14,
   "metadata": {},
   "outputs": [
    {
     "data": {
      "image/png": "[encoded data removed]",
      "text/plain": [
       "<Figure size 432x288 with 1 Axes>"
      ]
     },
     "metadata": {},
     "output_type": "display_data"
    },
    {
     "name": "stdout",
     "output_type": "stream",
     "text": [
      "Balanced: 0.5014342930232997\n",
      "AUC ROC: 0.7165058502190168\n"
     ]
    }
   ],
   "source": [
    "\n",
    "\n",
    "\n",
    "# lr = BaggingClassifier(LogisticRegression(), n_estimators=5)\n",
    "lr = LogisticRegression()\n",
    "\n",
    "lr.fit(x_train_component, y_train)\n",
    "y_pred = lr.predict(x_test_component)\n",
    "probs = lr.predict_proba(x_test_component)\n",
    "probs = probs[:, 1]\n",
    "auc = roc_auc_score(y_test, probs)\n",
    "fpr, tpr, thresholds = roc_curve(y_test, probs)\n",
    "plt.plot([0, 1], [0, 1], linestyle='--')\n",
    "plt.plot(fpr, tpr)\n",
    "plt.show()\n",
    "\n",
    "print('Balanced:', balanced_accuracy_score(y_test, y_pred))\n",
    "print('AUC ROC:', auc)"
   ]
  },
  {
   "cell_type": "code",
   "execution_count": 7,
   "metadata": {},
   "outputs": [
    {
     "data": {
      "text/plain": [
       "356"
      ]
     },
     "execution_count": 7,
     "metadata": {},
     "output_type": "execute_result"
    }
   ],
   "source": [
    "(lr.predict_proba(x_test_component)[:, 1] > 0.5).sum()"
   ]
  },
  {
   "cell_type": "code",
   "execution_count": null,
   "metadata": {},
   "outputs": [],
   "source": []
  },
  {
   "cell_type": "code",
   "execution_count": null,
   "metadata": {},
   "outputs": [],
   "source": [
    " "
   ]
  },
  {
   "cell_type": "code",
   "execution_count": 10,
   "metadata": {},
   "outputs": [
    {
     "data": {
      "text/plain": [
       "0.6745130238623395"
      ]
     },
     "execution_count": 10,
     "metadata": {},
     "output_type": "execute_result"
    }
   ],
   "source": [
    "# roc_auc_score(y_test, decisions) # 0.6803954026043431\n",
    "roc_auc_score(y_test, (lr.predict_proba(x_test_component)[:, 1] * 1.0 >= 0.08).astype(int))"
   ]
  },
  {
   "cell_type": "code",
   "execution_count": 33,
   "metadata": {},
   "outputs": [
    {
     "data": {
      "image/png": "[encoded data removed]",
      "text/plain": [
       "<Figure size 432x288 with 1 Axes>"
      ]
     },
     "metadata": {},
     "output_type": "display_data"
    },
    {
     "name": "stdout",
     "output_type": "stream",
     "text": [
      "0.6742619308495521\n"
     ]
    }
   ],
   "source": [
    "y_pred = lr.predict(x_test)\n",
    "probs = lr.predict_proba(x_test)\n",
    "probs = probs[:, 1]\n",
    "auc = roc_auc_score(y_test, decisions)\n",
    "fpr, tpr, thresholds = roc_curve(y_test, decisions)\n",
    "plt.plot([0, 1], [0, 1], linestyle='--')\n",
    "plt.plot(fpr, tpr)\n",
    "plt.show()\n",
    "print(auc)"
   ]
  },
  {
   "cell_type": "code",
   "execution_count": 83,
   "metadata": {},
   "outputs": [],
   "source": [
    "# Not-full dataset\n",
    "# Logistic Regression\n",
    "# Remove dataset: over_sampling; BorderlineSMOTE; Normalized; Balanced - 0.6224869941236959; AUC ROC - 0.6689262866227805 \n",
    "# Remove dataset: over_sampling; SMOTENC; Normalized; Balanced - 0.5717518993575862; AUC ROC - 0.6385838295405608\n",
    "# Remove dataset: over_sampling; SMOTE;   Normalized; Balanced - 0.6166696521827759; AUC ROC - 0.6598101528558757\n",
    "\n",
    "# Entire dataset\n",
    "# Logistic Regression\n",
    "# Remove dataset: over_sampling; BorderlineSMOTE; Normalized; Balanced - ...; AUC ROC - 0.67\n",
    "# Fillna dataset: over_sampling; BorderlineSMOTE; Normalized; Balanced - 0.6215630195718419; AUC ROC -  0.6673514810363779 \n",
    "# Remove dataset:  Normalized; Balanced - 0.5000795418390073; AUC ROC - 0.6771862974813969\n",
    "# Fillna dataset:  Normalized; Balanced - 0.5000676194751579; AUC ROC - 0.6764587297733253\n",
    "\n",
    "# AUC ROC: 0.7410109150314119 | Fillna\n",
    "# AUC ROC: 0.6775286249421997 without comp\n",
    "# AUC ROC: 0.6837003042315719 with berue comp\n",
    "# AUC ROC: 0.6843670107869264 with berue and installment comp\n",
    "# AUC ROC: 0.6955306952870857 with berue, installment comps, particular features\n",
    "\n",
    "# Remove dataset: Component; with corr del; Normalized; Balanced - v; AUC ROC -  0.6708015381254901\n",
    "# Remove dataset: Component; without corr del; Normalized; Balanced - v; AUC ROC - 0.6805247621526884\n",
    "# Remove dataset: SMOTE; Component; without corr del; Normalized; Balanced - v; AUC ROC - 0.6726899329907432"
   ]
  },
  {
   "cell_type": "code",
   "execution_count": 25,
   "metadata": {},
   "outputs": [],
   "source": []
  }
 ],
 "metadata": {
  "kernelspec": {
   "display_name": "Python 3",
   "language": "python",
   "name": "python3"
  },
  "language_info": {
   "codemirror_mode": {
    "name": "ipython",
    "version": 3
   },
   "file_extension": ".py",
   "mimetype": "text/x-python",
   "name": "python",
   "nbconvert_exporter": "python",
   "pygments_lexer": "ipython3",
   "version": "3.6.4"
  }
 },
 "nbformat": 4,
 "nbformat_minor": 2
}
